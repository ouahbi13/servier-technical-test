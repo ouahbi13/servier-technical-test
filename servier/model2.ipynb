{
 "cells": [
  {
   "cell_type": "code",
   "execution_count": 1,
   "metadata": {},
   "outputs": [],
   "source": [
    "import pandas as pd\n",
    "import matplotlib.pyplot as plt\n",
    "from collections import Counter\n",
    "from tensorflow.keras.preprocessing.text import Tokenizer\n",
    "from tensorflow.keras.preprocessing.sequence import pad_sequences\n",
    "from sklearn.model_selection import train_test_split\n",
    "from tensorflow.keras.layers import Embedding, LSTM, Dense\n",
    "from tensorflow.keras import Sequential\n",
    "import numpy as np"
   ]
  },
  {
   "cell_type": "code",
   "execution_count": 2,
   "metadata": {},
   "outputs": [
    {
     "data": {
      "text/html": [
       "<div>\n",
       "<style scoped>\n",
       "    .dataframe tbody tr th:only-of-type {\n",
       "        vertical-align: middle;\n",
       "    }\n",
       "\n",
       "    .dataframe tbody tr th {\n",
       "        vertical-align: top;\n",
       "    }\n",
       "\n",
       "    .dataframe thead th {\n",
       "        text-align: right;\n",
       "    }\n",
       "</style>\n",
       "<table border=\"1\" class=\"dataframe\">\n",
       "  <thead>\n",
       "    <tr style=\"text-align: right;\">\n",
       "      <th></th>\n",
       "      <th>P1</th>\n",
       "      <th>mol_id</th>\n",
       "      <th>smiles</th>\n",
       "    </tr>\n",
       "  </thead>\n",
       "  <tbody>\n",
       "    <tr>\n",
       "      <th>0</th>\n",
       "      <td>1</td>\n",
       "      <td>CID2999678</td>\n",
       "      <td>Cc1cccc(N2CCN(C(=O)C34CC5CC(CC(C5)C3)C4)CC2)c1C</td>\n",
       "    </tr>\n",
       "    <tr>\n",
       "      <th>1</th>\n",
       "      <td>0</td>\n",
       "      <td>CID2999679</td>\n",
       "      <td>Cn1ccnc1SCC(=O)Nc1ccc(Oc2ccccc2)cc1</td>\n",
       "    </tr>\n",
       "    <tr>\n",
       "      <th>2</th>\n",
       "      <td>1</td>\n",
       "      <td>CID2999672</td>\n",
       "      <td>COc1cc2c(cc1NC(=O)CN1C(=O)NC3(CCc4ccccc43)C1=O...</td>\n",
       "    </tr>\n",
       "    <tr>\n",
       "      <th>3</th>\n",
       "      <td>0</td>\n",
       "      <td>CID5390002</td>\n",
       "      <td>O=C1/C(=C/NC2CCS(=O)(=O)C2)c2ccccc2C(=O)N1c1cc...</td>\n",
       "    </tr>\n",
       "    <tr>\n",
       "      <th>4</th>\n",
       "      <td>1</td>\n",
       "      <td>CID2999670</td>\n",
       "      <td>NC(=O)NC(Cc1ccccc1)C(=O)O</td>\n",
       "    </tr>\n",
       "  </tbody>\n",
       "</table>\n",
       "</div>"
      ],
      "text/plain": [
       "   P1      mol_id                                             smiles\n",
       "0   1  CID2999678    Cc1cccc(N2CCN(C(=O)C34CC5CC(CC(C5)C3)C4)CC2)c1C\n",
       "1   0  CID2999679                Cn1ccnc1SCC(=O)Nc1ccc(Oc2ccccc2)cc1\n",
       "2   1  CID2999672  COc1cc2c(cc1NC(=O)CN1C(=O)NC3(CCc4ccccc43)C1=O...\n",
       "3   0  CID5390002  O=C1/C(=C/NC2CCS(=O)(=O)C2)c2ccccc2C(=O)N1c1cc...\n",
       "4   1  CID2999670                          NC(=O)NC(Cc1ccccc1)C(=O)O"
      ]
     },
     "execution_count": 2,
     "metadata": {},
     "output_type": "execute_result"
    }
   ],
   "source": [
    "DATASET_SINGLE_PATH = './dataset_single.csv'\n",
    "df = pd.read_csv(DATASET_SINGLE_PATH)\n",
    "df.head()"
   ]
  },
  {
   "cell_type": "code",
   "execution_count": 3,
   "metadata": {},
   "outputs": [
    {
     "data": {
      "image/png": "[encoded data removed]",
      "text/plain": [
       "<Figure size 720x432 with 1 Axes>"
      ]
     },
     "metadata": {
      "needs_background": "light"
     },
     "output_type": "display_data"
    },
    {
     "name": "stdout",
     "output_type": "stream",
     "text": [
      "Mean Length: 41.20\n",
      "Median Length: 41.0\n",
      "Standard Deviation: 9.14\n",
      "90th Percentile: 54.0\n",
      "95th Percentile: 57.0\n",
      "99th Percentile: 62.0\n"
     ]
    }
   ],
   "source": [
    "# Calculate the length of each SMILES string\n",
    "df['length'] = df['smiles'].apply(len)\n",
    "\n",
    "# Plot the distribution of sequence lengths\n",
    "plt.figure(figsize=(10, 6))\n",
    "plt.hist(df['length'], bins=50, color='blue', alpha=0.7)\n",
    "plt.title('Distribution of SMILES Sequence Lengths')\n",
    "plt.xlabel('Sequence Length')\n",
    "plt.ylabel('Number of SMILES')\n",
    "plt.grid(axis='y')\n",
    "plt.show()\n",
    "\n",
    "# Compute and display basic statistics\n",
    "mean_length = df['length'].mean()\n",
    "median_length = df['length'].median()\n",
    "std_dev_length = df['length'].std()\n",
    "percentile_90 = df['length'].quantile(0.9)\n",
    "percentile_95 = df['length'].quantile(0.95)\n",
    "percentile_99 = df['length'].quantile(0.99)\n",
    "\n",
    "print(f\"Mean Length: {mean_length:.2f}\")\n",
    "print(f\"Median Length: {median_length}\")\n",
    "print(f\"Standard Deviation: {std_dev_length:.2f}\")\n",
    "print(f\"90th Percentile: {percentile_90}\")\n",
    "print(f\"95th Percentile: {percentile_95}\")\n",
    "print(f\"99th Percentile: {percentile_99}\")"
   ]
  },
  {
   "cell_type": "code",
   "execution_count": 4,
   "metadata": {},
   "outputs": [
    {
     "data": {
      "image/png": "[encoded data removed]",
      "text/plain": [
       "<Figure size 864x576 with 1 Axes>"
      ]
     },
     "metadata": {
      "needs_background": "light"
     },
     "output_type": "display_data"
    },
    {
     "name": "stdout",
     "output_type": "stream",
     "text": [
      "Character: c - Frequency: 54625\n",
      "Character: C - Frequency: 34625\n",
      "Character: ( - Frequency: 18769\n",
      "Character: ) - Frequency: 18769\n",
      "Character: 1 - Frequency: 14602\n",
      "Character: O - Frequency: 13148\n",
      "Character: 2 - Frequency: 10766\n",
      "Character: = - Frequency: 9707\n",
      "Character: N - Frequency: 7682\n",
      "Character: n - Frequency: 7026\n"
     ]
    }
   ],
   "source": [
    "\n",
    "# Extract and count all characters from the SMILES strings\n",
    "all_characters = ''.join(df['smiles'])\n",
    "char_freq = Counter(all_characters)\n",
    "\n",
    "# Sort characters by frequency for better visualization\n",
    "sorted_chars = sorted(char_freq.items(), key=lambda x: x[1], reverse=True)\n",
    "chars, freqs = zip(*sorted_chars)\n",
    "\n",
    "# Plot the frequency distribution\n",
    "plt.figure(figsize=(12, 8))\n",
    "plt.bar(chars, freqs, color='green', alpha=0.7)\n",
    "plt.title('Character Frequency in SMILES Strings')\n",
    "plt.xlabel('Character')\n",
    "plt.ylabel('Frequency')\n",
    "plt.grid(axis='y')\n",
    "plt.show()\n",
    "\n",
    "# Display top characters and their counts\n",
    "for char, freq in sorted_chars[:10]:\n",
    "    print(f\"Character: {char} - Frequency: {freq}\")\n"
   ]
  },
  {
   "cell_type": "code",
   "execution_count": 5,
   "metadata": {},
   "outputs": [],
   "source": [
    "X = df.drop(['P1', 'mol_id'], axis=1)\n",
    "Y = df['P1']"
   ]
  },
  {
   "cell_type": "code",
   "execution_count": 6,
   "metadata": {},
   "outputs": [],
   "source": [
    "# Tokenization and padding\n",
    "tokenizer = Tokenizer(char_level=True, lower=False)\n",
    "tokenizer.fit_on_texts(X['smiles'])\n",
    "sequences = tokenizer.texts_to_sequences(X['smiles'])\n",
    "padded_sequences = pad_sequences(sequences, padding='post')"
   ]
  },
  {
   "cell_type": "code",
   "execution_count": 7,
   "metadata": {},
   "outputs": [],
   "source": [
    "X_train, X_test, y_train, y_test = train_test_split(padded_sequences, Y, test_size=0.2, random_state=42)\n",
    "\n",
    "X_train, X_val, y_train, y_val = train_test_split(X_train, y_train, test_size=0.2, random_state=42)"
   ]
  },
  {
   "cell_type": "code",
   "execution_count": 8,
   "metadata": {},
   "outputs": [],
   "source": [
    "embedding_dim = 64\n",
    "vocab_size = len(tokenizer.word_index) + 1\n",
    "\n",
    "model2 = Sequential([\n",
    "    Embedding(vocab_size, embedding_dim, input_length=padded_sequences.shape[1]),\n",
    "    LSTM(128, return_sequences=True),\n",
    "    LSTM(64),\n",
    "    Dense(1, activation='sigmoid')\n",
    "])\n",
    "model2.compile(optimizer='adam', loss='binary_crossentropy', metrics=['accuracy'])"
   ]
  },
  {
   "cell_type": "code",
   "execution_count": 9,
   "metadata": {},
   "outputs": [
    {
     "name": "stdout",
     "output_type": "stream",
     "text": [
      "Epoch 1/100\n",
      "200/200 [==============================] - 20s 16ms/step - loss: 0.4816 - accuracy: 0.8187\n",
      "Epoch 2/100\n",
      "200/200 [==============================] - 3s 16ms/step - loss: 0.4699 - accuracy: 0.8224\n",
      "Epoch 3/100\n",
      "200/200 [==============================] - 3s 16ms/step - loss: 0.4687 - accuracy: 0.8224\n",
      "Epoch 4/100\n",
      "200/200 [==============================] - 3s 16ms/step - loss: 0.4668 - accuracy: 0.8224\n",
      "Epoch 5/100\n",
      "200/200 [==============================] - 3s 15ms/step - loss: 0.4664 - accuracy: 0.8224\n",
      "Epoch 6/100\n",
      "200/200 [==============================] - 3s 16ms/step - loss: 0.4642 - accuracy: 0.8221\n",
      "Epoch 7/100\n",
      "200/200 [==============================] - 3s 16ms/step - loss: 0.4700 - accuracy: 0.8224\n",
      "Epoch 8/100\n",
      "200/200 [==============================] - 3s 16ms/step - loss: 0.4657 - accuracy: 0.8224\n",
      "Epoch 9/100\n",
      "200/200 [==============================] - 3s 17ms/step - loss: 0.4395 - accuracy: 0.8224\n",
      "Epoch 10/100\n",
      "200/200 [==============================] - 3s 17ms/step - loss: 0.4373 - accuracy: 0.8224\n",
      "Epoch 11/100\n",
      "200/200 [==============================] - 3s 16ms/step - loss: 0.4415 - accuracy: 0.8224\n",
      "Epoch 12/100\n",
      "200/200 [==============================] - 3s 16ms/step - loss: 0.4345 - accuracy: 0.8224\n",
      "Epoch 13/100\n",
      "200/200 [==============================] - 3s 17ms/step - loss: 0.4318 - accuracy: 0.8224\n",
      "Epoch 14/100\n",
      "200/200 [==============================] - 3s 17ms/step - loss: 0.4278 - accuracy: 0.8224\n",
      "Epoch 15/100\n",
      "200/200 [==============================] - 4s 18ms/step - loss: 0.4273 - accuracy: 0.8224\n",
      "Epoch 16/100\n",
      "200/200 [==============================] - 4s 18ms/step - loss: 0.4233 - accuracy: 0.8224\n",
      "Epoch 17/100\n",
      "200/200 [==============================] - 4s 18ms/step - loss: 0.4223 - accuracy: 0.8224\n",
      "Epoch 18/100\n",
      "200/200 [==============================] - 4s 18ms/step - loss: 0.4222 - accuracy: 0.8224\n",
      "Epoch 19/100\n",
      "200/200 [==============================] - 3s 16ms/step - loss: 0.4185 - accuracy: 0.8224\n",
      "Epoch 20/100\n",
      "200/200 [==============================] - 3s 16ms/step - loss: 0.4176 - accuracy: 0.8224\n",
      "Epoch 21/100\n",
      "200/200 [==============================] - 3s 17ms/step - loss: 0.4149 - accuracy: 0.8224\n",
      "Epoch 22/100\n",
      "200/200 [==============================] - 3s 17ms/step - loss: 0.4204 - accuracy: 0.8224\n",
      "Epoch 23/100\n",
      "200/200 [==============================] - 3s 17ms/step - loss: 0.4110 - accuracy: 0.8224\n",
      "Epoch 24/100\n",
      "200/200 [==============================] - 3s 16ms/step - loss: 0.4081 - accuracy: 0.8224\n",
      "Epoch 25/100\n",
      "200/200 [==============================] - 3s 15ms/step - loss: 0.4089 - accuracy: 0.8224\n",
      "Epoch 26/100\n",
      "200/200 [==============================] - 3s 15ms/step - loss: 0.4053 - accuracy: 0.8231\n",
      "Epoch 27/100\n",
      "200/200 [==============================] - 3s 15ms/step - loss: 0.4044 - accuracy: 0.8221\n",
      "Epoch 28/100\n",
      "200/200 [==============================] - 3s 15ms/step - loss: 0.4005 - accuracy: 0.8206\n",
      "Epoch 29/100\n",
      "200/200 [==============================] - 3s 15ms/step - loss: 0.4006 - accuracy: 0.8209\n",
      "Epoch 30/100\n",
      "200/200 [==============================] - 3s 15ms/step - loss: 0.3969 - accuracy: 0.8203\n",
      "Epoch 31/100\n",
      "200/200 [==============================] - 3s 15ms/step - loss: 0.3965 - accuracy: 0.8206\n",
      "Epoch 32/100\n",
      "200/200 [==============================] - 3s 16ms/step - loss: 0.3924 - accuracy: 0.8231\n",
      "Epoch 33/100\n",
      "200/200 [==============================] - 3s 15ms/step - loss: 0.3887 - accuracy: 0.8228\n",
      "Epoch 34/100\n",
      "200/200 [==============================] - 3s 15ms/step - loss: 0.3860 - accuracy: 0.8231\n",
      "Epoch 35/100\n",
      "200/200 [==============================] - 3s 16ms/step - loss: 0.3850 - accuracy: 0.8265\n",
      "Epoch 36/100\n",
      "200/200 [==============================] - 3s 16ms/step - loss: 0.3807 - accuracy: 0.8259\n",
      "Epoch 37/100\n",
      "200/200 [==============================] - 4s 20ms/step - loss: 0.3794 - accuracy: 0.8243\n",
      "Epoch 38/100\n",
      "200/200 [==============================] - 4s 19ms/step - loss: 0.3705 - accuracy: 0.8337\n",
      "Epoch 39/100\n",
      "200/200 [==============================] - 3s 17ms/step - loss: 0.3660 - accuracy: 0.8374\n",
      "Epoch 40/100\n",
      "200/200 [==============================] - 4s 18ms/step - loss: 0.3655 - accuracy: 0.8399\n",
      "Epoch 41/100\n",
      "200/200 [==============================] - 3s 17ms/step - loss: 0.3573 - accuracy: 0.8431\n",
      "Epoch 42/100\n",
      "200/200 [==============================] - 3s 15ms/step - loss: 0.3602 - accuracy: 0.8412\n",
      "Epoch 43/100\n",
      "200/200 [==============================] - 3s 16ms/step - loss: 0.3551 - accuracy: 0.8437\n",
      "Epoch 44/100\n",
      "200/200 [==============================] - 3s 16ms/step - loss: 0.3464 - accuracy: 0.8506\n",
      "Epoch 45/100\n",
      "200/200 [==============================] - 3s 16ms/step - loss: 0.3458 - accuracy: 0.8475\n",
      "Epoch 46/100\n",
      "200/200 [==============================] - 3s 14ms/step - loss: 0.3421 - accuracy: 0.8568\n",
      "Epoch 47/100\n",
      "200/200 [==============================] - 3s 15ms/step - loss: 0.3339 - accuracy: 0.8606\n",
      "Epoch 48/100\n",
      "200/200 [==============================] - 3s 15ms/step - loss: 0.3374 - accuracy: 0.8568\n",
      "Epoch 49/100\n",
      "200/200 [==============================] - 3s 15ms/step - loss: 0.3342 - accuracy: 0.8581\n",
      "Epoch 50/100\n",
      "200/200 [==============================] - 3s 15ms/step - loss: 0.3242 - accuracy: 0.8631\n",
      "Epoch 51/100\n",
      "200/200 [==============================] - 3s 16ms/step - loss: 0.3146 - accuracy: 0.8687\n",
      "Epoch 52/100\n",
      "200/200 [==============================] - 3s 16ms/step - loss: 0.3192 - accuracy: 0.8618\n",
      "Epoch 53/100\n",
      "200/200 [==============================] - 3s 15ms/step - loss: 0.3063 - accuracy: 0.8718\n",
      "Epoch 54/100\n",
      "200/200 [==============================] - 3s 15ms/step - loss: 0.3003 - accuracy: 0.8781\n",
      "Epoch 55/100\n",
      "200/200 [==============================] - 3s 15ms/step - loss: 0.3006 - accuracy: 0.8775\n",
      "Epoch 56/100\n",
      "200/200 [==============================] - 3s 15ms/step - loss: 0.2995 - accuracy: 0.8759\n",
      "Epoch 57/100\n",
      "200/200 [==============================] - 3s 17ms/step - loss: 0.2969 - accuracy: 0.8796\n",
      "Epoch 58/100\n",
      "200/200 [==============================] - 3s 15ms/step - loss: 0.2888 - accuracy: 0.8775\n",
      "Epoch 59/100\n",
      "200/200 [==============================] - 3s 16ms/step - loss: 0.2801 - accuracy: 0.8784\n",
      "Epoch 60/100\n",
      "200/200 [==============================] - 3s 15ms/step - loss: 0.2745 - accuracy: 0.8822\n",
      "Epoch 61/100\n",
      "200/200 [==============================] - 3s 15ms/step - loss: 0.2585 - accuracy: 0.8859\n",
      "Epoch 62/100\n",
      "200/200 [==============================] - 3s 15ms/step - loss: 0.2677 - accuracy: 0.8872\n",
      "Epoch 63/100\n",
      "200/200 [==============================] - 4s 22ms/step - loss: 0.2507 - accuracy: 0.8925\n",
      "Epoch 64/100\n",
      "200/200 [==============================] - 4s 18ms/step - loss: 0.2744 - accuracy: 0.8834\n",
      "Epoch 65/100\n",
      "200/200 [==============================] - 3s 15ms/step - loss: 0.2516 - accuracy: 0.8922 0s - loss: 0.2494 - \n",
      "Epoch 66/100\n",
      "200/200 [==============================] - 3s 17ms/step - loss: 0.2375 - accuracy: 0.8956\n",
      "Epoch 67/100\n",
      "200/200 [==============================] - 3s 17ms/step - loss: 0.2338 - accuracy: 0.9015\n",
      "Epoch 68/100\n",
      "200/200 [==============================] - 3s 16ms/step - loss: 0.2228 - accuracy: 0.9040\n",
      "Epoch 69/100\n",
      "200/200 [==============================] - 3s 16ms/step - loss: 0.2478 - accuracy: 0.8931\n",
      "Epoch 70/100\n",
      "200/200 [==============================] - 3s 16ms/step - loss: 0.2134 - accuracy: 0.9078\n",
      "Epoch 71/100\n",
      "200/200 [==============================] - 3s 15ms/step - loss: 0.2039 - accuracy: 0.9162\n",
      "Epoch 72/100\n",
      "200/200 [==============================] - 4s 18ms/step - loss: 0.1955 - accuracy: 0.9159\n",
      "Epoch 73/100\n",
      "200/200 [==============================] - 4s 18ms/step - loss: 0.1935 - accuracy: 0.9162\n",
      "Epoch 74/100\n",
      "200/200 [==============================] - 3s 15ms/step - loss: 0.1971 - accuracy: 0.9115\n",
      "Epoch 75/100\n",
      "200/200 [==============================] - 3s 14ms/step - loss: 0.1879 - accuracy: 0.9178\n",
      "Epoch 76/100\n",
      "200/200 [==============================] - 3s 15ms/step - loss: 0.1761 - accuracy: 0.9250\n",
      "Epoch 77/100\n",
      "200/200 [==============================] - 3s 14ms/step - loss: 0.1684 - accuracy: 0.9290\n",
      "Epoch 78/100\n",
      "200/200 [==============================] - 3s 15ms/step - loss: 0.1728 - accuracy: 0.9253\n",
      "Epoch 79/100\n",
      "200/200 [==============================] - 3s 15ms/step - loss: 0.1620 - accuracy: 0.9337\n",
      "Epoch 80/100\n",
      "200/200 [==============================] - 3s 15ms/step - loss: 0.1663 - accuracy: 0.9275\n",
      "Epoch 81/100\n",
      "200/200 [==============================] - 4s 21ms/step - loss: 0.1534 - accuracy: 0.9375\n",
      "Epoch 82/100\n",
      "200/200 [==============================] - 4s 19ms/step - loss: 0.1520 - accuracy: 0.9378\n",
      "Epoch 83/100\n",
      "200/200 [==============================] - 3s 14ms/step - loss: 0.1480 - accuracy: 0.9412\n",
      "Epoch 84/100\n",
      "200/200 [==============================] - 3s 15ms/step - loss: 0.1488 - accuracy: 0.9440\n",
      "Epoch 85/100\n",
      "200/200 [==============================] - 3s 15ms/step - loss: 0.1618 - accuracy: 0.9372\n",
      "Epoch 86/100\n",
      "200/200 [==============================] - 3s 15ms/step - loss: 0.1254 - accuracy: 0.9519\n",
      "Epoch 87/100\n",
      "200/200 [==============================] - 3s 15ms/step - loss: 0.1376 - accuracy: 0.9459\n",
      "Epoch 88/100\n",
      "200/200 [==============================] - 3s 15ms/step - loss: 0.1432 - accuracy: 0.9444\n",
      "Epoch 89/100\n",
      "200/200 [==============================] - 3s 15ms/step - loss: 0.1120 - accuracy: 0.9590\n",
      "Epoch 90/100\n",
      "200/200 [==============================] - 3s 15ms/step - loss: 0.1001 - accuracy: 0.9590\n",
      "Epoch 91/100\n",
      "200/200 [==============================] - 3s 15ms/step - loss: 0.1417 - accuracy: 0.9456\n",
      "Epoch 92/100\n",
      "200/200 [==============================] - 3s 16ms/step - loss: 0.1068 - accuracy: 0.9559\n",
      "Epoch 93/100\n",
      "200/200 [==============================] - 3s 16ms/step - loss: 0.1064 - accuracy: 0.9612\n",
      "Epoch 94/100\n",
      "200/200 [==============================] - 3s 15ms/step - loss: 0.1064 - accuracy: 0.9553\n",
      "Epoch 95/100\n",
      "200/200 [==============================] - 3s 14ms/step - loss: 0.0899 - accuracy: 0.9666\n",
      "Epoch 96/100\n",
      "200/200 [==============================] - 3s 16ms/step - loss: 0.0852 - accuracy: 0.9678\n",
      "Epoch 97/100\n",
      "200/200 [==============================] - 3s 14ms/step - loss: 0.0847 - accuracy: 0.9691\n",
      "Epoch 98/100\n",
      "200/200 [==============================] - 3s 15ms/step - loss: 0.0864 - accuracy: 0.9675\n",
      "Epoch 99/100\n",
      "200/200 [==============================] - 3s 15ms/step - loss: 0.0961 - accuracy: 0.9631\n",
      "Epoch 100/100\n",
      "200/200 [==============================] - 3s 15ms/step - loss: 0.1173 - accuracy: 0.9553\n"
     ]
    },
    {
     "name": "stderr",
     "output_type": "stream",
     "text": [
      "WARNING:absl:Found untraced functions such as lstm_cell_layer_call_and_return_conditional_losses, lstm_cell_layer_call_fn, lstm_cell_1_layer_call_and_return_conditional_losses, lstm_cell_1_layer_call_fn, lstm_cell_layer_call_fn while saving (showing 5 of 10). These functions will not be directly callable after loading.\n"
     ]
    },
    {
     "name": "stdout",
     "output_type": "stream",
     "text": [
      "INFO:tensorflow:Assets written to: ./models/model2/model_2.h5/assets\n"
     ]
    },
    {
     "name": "stderr",
     "output_type": "stream",
     "text": [
      "INFO:tensorflow:Assets written to: ./models/model2/model_2.h5/assets\n"
     ]
    },
    {
     "name": "stdout",
     "output_type": "stream",
     "text": [
      "32/32 [==============================] - 1s 11ms/step - loss: 1.0336 - accuracy: 0.7380\n",
      "Model 2 Accuracy: 73.80%\n"
     ]
    }
   ],
   "source": [
    "# Training Model2\n",
    "model2.fit(X_train, y_train, epochs=100, batch_size=16)\n",
    "model2.save('./models/model2/model_2.h5/')\n",
    "\n",
    "# Evaluating Model2\n",
    "loss, accuracy = model2.evaluate(X_test, y_test)\n",
    "print(f\"Model 2 Accuracy: {accuracy*100:.2f}%\")"
   ]
  },
  {
   "cell_type": "code",
   "execution_count": 10,
   "metadata": {},
   "outputs": [
    {
     "data": {
      "text/plain": [
       "1"
      ]
     },
     "execution_count": 10,
     "metadata": {},
     "output_type": "execute_result"
    }
   ],
   "source": [
    "# Predicting using Model2\n",
    "def predict_property_model2(smile):\n",
    "    sequence = tokenizer.texts_to_sequences([smile])\n",
    "    padded_sequence = pad_sequences(sequence, padding='post', maxlen=padded_sequences.shape[1])\n",
    "    prediction = model2.predict(padded_sequence)\n",
    "    return 1 if prediction >= 0.5 else 0\n",
    "\n",
    "predict_property_model2(X_test[0])"
   ]
  }
 ],
 "metadata": {
  "kernelspec": {
   "display_name": "servier",
   "language": "python",
   "name": "python3"
  },
  "language_info": {
   "codemirror_mode": {
    "name": "ipython",
    "version": 3
   },
   "file_extension": ".py",
   "mimetype": "text/x-python",
   "name": "python",
   "nbconvert_exporter": "python",
   "pygments_lexer": "ipython3",
   "version": "3.6.13"
  },
  "orig_nbformat": 4
 },
 "nbformat": 4,
 "nbformat_minor": 2
}
